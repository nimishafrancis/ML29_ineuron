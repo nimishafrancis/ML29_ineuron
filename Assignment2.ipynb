{
 "cells": [
  {
   "cell_type": "code",
   "execution_count": 84,
   "metadata": {
    "scrolled": true
   },
   "outputs": [
    {
     "name": "stdout",
     "output_type": "stream",
     "text": [
      "*\n",
      "**\n",
      "***\n",
      "****\n",
      "*****\n",
      "at iteration i:2, j:0, k:1\n",
      "****\n",
      "at iteration i:2, j:1, k:1\n",
      "***\n",
      "at iteration i:2, j:2, k:1\n",
      "**\n",
      "at iteration i:2, j:3, k:1\n",
      "*\n"
     ]
    }
   ],
   "source": [
    "l=''\n",
    "i=0\n",
    "j=0\n",
    "k=0\n",
    "for i in range(0,3):\n",
    "    #print(\"A iteration i:{}, j:{}, k:{}\".format(i,j,k))\n",
    "    for j in range(0,i):\n",
    "        #print(\"B iteration i:{}, j:{}, k:{}\".format(i,j,k))\n",
    "        for k in range(0,i):\n",
    "            l+='*'\n",
    "            #print(\"at iteration i:{}, j:{}, k:{}\".format(i,j,k))\n",
    "            print(l)\n",
    "for j in range(0,4):\n",
    "    print(\"at iteration i:{}, j:{}, k:{}\".format(i,j,k))\n",
    "\n",
    "    l=l[:-1] \n",
    "    print(l)   \n",
    "        \n",
    "        \n",
    "        \n",
    "   "
   ]
  },
  {
   "cell_type": "code",
   "execution_count": 101,
   "metadata": {},
   "outputs": [
    {
     "name": "stdout",
     "output_type": "stream",
     "text": [
      "*\n",
      "**\n",
      "***\n",
      "****\n",
      "*****\n",
      "******\n",
      "*****\n",
      "****\n",
      "***\n",
      "**\n",
      "*\n"
     ]
    }
   ],
   "source": [
    "l=''\n",
    "for i in range(0,3):\n",
    "    for j in range(0,2):\n",
    "        l+='*'\n",
    "        print(l)\n",
    "for j in range(0,5):\n",
    "    l=l[:-1] \n",
    "    print(l)   \n",
    "        \n",
    "        "
   ]
  },
  {
   "cell_type": "code",
   "execution_count": 105,
   "metadata": {},
   "outputs": [
    {
     "name": "stdout",
     "output_type": "stream",
     "text": [
      "*\n",
      "**\n",
      "***\n",
      "****\n",
      "*****\n",
      "****\n",
      "***\n",
      "**\n",
      "*\n",
      "\n"
     ]
    }
   ],
   "source": [
    "l=''\n",
    "for j in range(0,5):\n",
    "    l+='*'\n",
    "    print(l)\n",
    "for j in range(0,5):\n",
    "    l=l[:-1] \n",
    "    print(l)   \n",
    "        "
   ]
  },
  {
   "cell_type": "code",
   "execution_count": 118,
   "metadata": {},
   "outputs": [
    {
     "name": "stdout",
     "output_type": "stream",
     "text": [
      "* \n",
      "* * \n",
      "* * * \n",
      "* * * * \n",
      "* * * * * \n",
      "* * * * \n",
      "* * * \n",
      "* * \n",
      "* \n"
     ]
    }
   ],
   "source": [
    "\n",
    "for i in range(0,5):\n",
    "    for j in range(0,i+1):\n",
    "        print('*',end=\" \")\n",
    "    print()    \n",
    "for i in range(4,0,-1):\n",
    "    for j in range(0,i):\n",
    "        print('*',end=\" \")\n",
    "    print()      "
   ]
  },
  {
   "cell_type": "code",
   "execution_count": 130,
   "metadata": {},
   "outputs": [
    {
     "name": "stdout",
     "output_type": "stream",
     "text": [
      "Input word : jhugigu\n",
      "Output     : ugiguhj\n"
     ]
    }
   ],
   "source": [
    "word=input(\"Input word : \")\n",
    "print(\"Output     : {}\".format(word[::-1]))"
   ]
  },
  {
   "cell_type": "code",
   "execution_count": null,
   "metadata": {},
   "outputs": [],
   "source": []
  }
 ],
 "metadata": {
  "kernelspec": {
   "display_name": "Python 3",
   "language": "python",
   "name": "python3"
  },
  "language_info": {
   "codemirror_mode": {
    "name": "ipython",
    "version": 3
   },
   "file_extension": ".py",
   "mimetype": "text/x-python",
   "name": "python",
   "nbconvert_exporter": "python",
   "pygments_lexer": "ipython3",
   "version": "3.7.4"
  }
 },
 "nbformat": 4,
 "nbformat_minor": 2
}
